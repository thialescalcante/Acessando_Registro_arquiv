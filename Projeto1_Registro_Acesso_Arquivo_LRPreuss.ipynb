{
  "nbformat": 4,
  "nbformat_minor": 0,
  "metadata": {
    "colab": {
      "provenance": [],
      "include_colab_link": true
    },
    "kernelspec": {
      "name": "python3",
      "display_name": "Python 3"
    },
    "language_info": {
      "name": "python"
    }
  },
  "cells": [
    {
      "cell_type": "markdown",
      "metadata": {
        "id": "view-in-github",
        "colab_type": "text"
      },
      "source": [
        "<a href=\"https://colab.research.google.com/github/thialescalcante/Acessando_Registro_arquiv/blob/main/Projeto1_Registro_Acesso_Arquivo_LRPreuss.ipynb\" target=\"_parent\"><img src=\"https://colab.research.google.com/assets/colab-badge.svg\" alt=\"Open In Colab\"/></a>"
      ]
    },
    {
      "cell_type": "code",
      "execution_count": null,
      "metadata": {
        "colab": {
          "base_uri": "https://localhost:8080/",
          "height": 53
        },
        "id": "sG61-Bufu5f1",
        "outputId": "b553f8a9-aef1-444d-bb72-b7764e995f07"
      },
      "outputs": [
        {
          "output_type": "execute_result",
          "data": {
            "text/plain": [
              "'def openLog(nomearq, modo): # Criação da Função openLog (Versão Inicial)\\n  arqEntrada = open(nomearq, modo)\\n  return arqEntrada'"
            ],
            "application/vnd.google.colaboratory.intrinsic+json": {
              "type": "string"
            }
          },
          "metadata": {},
          "execution_count": 4
        }
      ],
      "source": [
        "'''def openLog(nomearq, modo): # Criação da Função openLog (Versão Inicial)\n",
        "  arqEntrada = open(nomearq, modo)\n",
        "  return arqEntrada'''"
      ]
    },
    {
      "cell_type": "code",
      "source": [
        "'''def openLog(nomearq, modo): # Implementação do Registro do Nome do Arquivo\n",
        "  arqEntrada = open(nomearq, modo)\n",
        "\n",
        "  #abre arquvo teste.txt no modo de acréscimo e acrescenta o log\n",
        "  arqSaida = open('teste.txt', 'a')\n",
        "  arqSaida.write('Arquivo {} aberto.\\n'.format(nomearq))\n",
        "  arqSaida.close()\n",
        "\n",
        "  return arqEntrada'''"
      ],
      "metadata": {
        "colab": {
          "base_uri": "https://localhost:8080/",
          "height": 70
        },
        "id": "QIDlMOTt3C8C",
        "outputId": "4f218fc5-cb60-48b6-cf6d-32c1be5c5e92"
      },
      "execution_count": null,
      "outputs": [
        {
          "output_type": "execute_result",
          "data": {
            "text/plain": [
              "\"def openLog(nomearq, modo): # Implementação do Registro do Nome do Arquivo\\n  arqEntrada = open(nomearq, modo)\\n\\n  #abre arquvo teste.txt no modo de acréscimo e acrescenta o log\\n  arqSaida = open('teste.txt', 'a')\\n  arqSaida.write('Arquivo {} aberto.\\n'.format(nomearq))\\n  arqSaida.close()\\n\\n  return arqEntrada\""
            ],
            "application/vnd.google.colaboratory.intrinsic+json": {
              "type": "string"
            }
          },
          "metadata": {},
          "execution_count": 5
        }
      ]
    },
    {
      "cell_type": "code",
      "source": [
        "import time # Implementação do Registro da Data e Hora do Acesso\n",
        "\n",
        "def openLog(nomearq, modo = 'r'):\n",
        "  '''abre arquivo nomearq em certo modo e terorna referencia ao\n",
        "  arquivo aberto; registra o acesso ao arquivo em log.txt'''\n",
        "\n",
        "  arqEntrada = open(nomearq, modo)\n",
        "\n",
        "  #obtem hora atual\n",
        "  now = time.localtime()\n",
        "  nowFormat = time.strftime('%A %b/%d/%y %I:%M %p', now)\n",
        "\n",
        "  #abre arquivo teste.txt no modo de acréscimo e acrescenta log\n",
        "  arqSaida = open('teste.txt', 'a')\n",
        "  log = '{}: Arquivo {} aberto.\\n' #formata string\n",
        "  arqSaida.write(log.format(nowFormat, nomearq))\n",
        "  arqSaida.close()\n",
        "\n",
        "  print('Registro realizado')\n",
        "\n",
        "  return arqEntrada"
      ],
      "metadata": {
        "colab": {
          "base_uri": "https://localhost:8080/"
        },
        "id": "EgcqrsVb4P3M",
        "outputId": "9621e360-3cdb-4c3f-f85f-4b38859352d2"
      },
      "execution_count": null,
      "outputs": [
        {
          "output_type": "stream",
          "name": "stdout",
          "text": [
            "Registro realizado\n"
          ]
        },
        {
          "output_type": "execute_result",
          "data": {
            "text/plain": [
              "<_io.TextIOWrapper name='/content/drive/MyDrive/FATEC/Linguagem de Programação 1/teste.txt' mode='r' encoding='utf-8'>"
            ]
          },
          "metadata": {},
          "execution_count": 3
        }
      ]
    },
    {
      "cell_type": "markdown",
      "source": [],
      "metadata": {
        "id": "D_tSq27VHIWs"
      }
    },
    {
      "cell_type": "code",
      "source": [
        "#teste da função openLog\n",
        "openLog('/content/drive/MyDrive/Colab Notebooks/teste.txt', 'r')"
      ],
      "metadata": {
        "colab": {
          "base_uri": "https://localhost:8080/"
        },
        "id": "Qwpk-lxl6ZJZ",
        "outputId": "13acbda9-a664-49c3-bc3b-e1368a74c743"
      },
      "execution_count": 24,
      "outputs": [
        {
          "output_type": "stream",
          "name": "stdout",
          "text": [
            "Registro realizado\n"
          ]
        },
        {
          "output_type": "execute_result",
          "data": {
            "text/plain": [
              "<_io.TextIOWrapper name='/content/drive/MyDrive/Colab Notebooks/teste.txt' mode='r' encoding='utf-8'>"
            ]
          },
          "metadata": {},
          "execution_count": 24
        }
      ]
    }
  ]
}